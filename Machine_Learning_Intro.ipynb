{
  "nbformat": 4,
  "nbformat_minor": 0,
  "metadata": {
    "colab": {
      "provenance": []
    },
    "kernelspec": {
      "name": "python3",
      "display_name": "Python 3"
    },
    "language_info": {
      "name": "python"
    }
  },
  "cells": [
    {
      "cell_type": "markdown",
      "source": [
        "Q1: Explain the differences between AI, ML, Deep Learning (DL), and Data\n",
        "Science (DS).\n",
        "* Artificial Intelligence (AI): AI is the broadest field that focuses on creating machines or systems capable of performing tasks that usually require human intelligence, such as reasoning, decision-making, problem-solving, or natural language understanding. Example: Siri or Alexa.\n",
        "\n",
        "* Machine Learning (ML): ML is a subset of AI where systems learn from data without being explicitly programmed. The model improves its performance with experience. Example: Email spam detection.\n",
        "\n",
        "* Deep Learning (DL): DL is a specialized branch of ML that uses artificial neural networks with multiple layers to handle complex tasks like image recognition, speech recognition, or self-driving cars. Example: Face recognition in smartphones.\n",
        "\n",
        "* Data Science (DS): DS is a broader discipline that involves extracting meaningful insights from data using statistics, ML, visualization, and domain knowledge. It combines AI/ML techniques with data handling and business problem-solving. Example: Customer churn prediction."
      ],
      "metadata": {
        "id": "gQrUKgw5MsKI"
      }
    },
    {
      "cell_type": "markdown",
      "source": [
        "Q2: What are the types of machine learning? Describe each with one\n",
        "real-world example.\n",
        "* Supervised Learning: The model learns from labeled data (input-output pairs).\n",
        "\n",
        "-Example: Predicting house prices based on features like size, location, and number of rooms.\n",
        "\n",
        "* Unsupervised Learning: The model works on unlabeled data to find hidden structures or groupings.\n",
        "\n",
        "-Example: Customer segmentation in e-commerce based on buying behavior.\n",
        "\n",
        "* Reinforcement Learning: The model learns by interacting with an environment and receiving rewards/penalties.\n",
        "\n",
        "-Example: A robot learning to walk or a self-driving car improving driving through feedback."
      ],
      "metadata": {
        "id": "wE5ntCbWM4Vf"
      }
    },
    {
      "cell_type": "markdown",
      "source": [
        "Q3: Define overfitting, underfitting, and the bias-variance tradeoff in machine\n",
        "learning.\n",
        "* Overfitting: The model learns both patterns and noise in the training data, performing well on training data but poorly on unseen data. Example: Memorizing answers without understanding.\n",
        "\n",
        "* Underfitting: The model is too simple to capture the underlying trend in the data, leading to poor performance on both training and test data. Example: Using a straight line to predict a complex curve.\n",
        "\n",
        "* Bias-Variance Tradeoff:\n",
        "-Bias: Error from overly simplistic assumptions in the model.\n",
        "-Variance: Error from being too sensitive to training data.\n",
        "\n",
        "Tradeoff means balancing both—low bias and low variance—for good generalization."
      ],
      "metadata": {
        "id": "gkQVesjwNKDW"
      }
    },
    {
      "cell_type": "markdown",
      "source": [
        "Q4: What are outliers in a dataset, and list three common techniques for\n",
        "handling them.\n",
        "* Outliers: Extreme values that differ significantly from most of the data points. They may result from data entry errors, measurement errors, or genuine rare cases.\n",
        "\n",
        "* Techniques to handle outliers:\n",
        "-Removal: Drop rows containing extreme values if they are errors.\n",
        "-Transformation: Apply log or square root transformations to reduce skewness.\n",
        "\n",
        "Capping/Clipping: Replace outliers with percentile values (e.g., 1st and 99th percentile)."
      ],
      "metadata": {
        "id": "3DWHp3zUNbLi"
      }
    },
    {
      "cell_type": "markdown",
      "source": [
        "Q5: Explain the process of handling missing values and mention one\n",
        "imputation technique for numerical and one for categorical data.\n",
        "\n",
        "Process:\n",
        "* Detect missing values.\n",
        "* Analyze patterns (random or systematic).\n",
        "* Choose an imputation method.\n",
        "* Replace or estimate missing values accordingly.\n",
        "\n",
        "-Numerical Data: Replace missing values with the mean or median of the column.\n",
        "\n",
        "-Categorical Data: Replace missing values with the mode (most frequent value)."
      ],
      "metadata": {
        "id": "yI082uaVNnKj"
      }
    },
    {
      "cell_type": "markdown",
      "source": [
        "6: Write a Python program that:\n",
        "* Creates a synthetic imbalanced dataset with make_classification() from\n",
        "sklearn.datasets.\n",
        "* Prints the class distribution."
      ],
      "metadata": {
        "id": "8t8J4hwROF23"
      }
    },
    {
      "cell_type": "code",
      "source": [
        "from sklearn.datasets import make_classification\n",
        "from collections import Counter\n",
        "\n",
        "X, y = make_classification(n_classes=2, class_sep=2,\n",
        "                           weights=[0.9, 0.1],\n",
        "                           n_samples=1000,\n",
        "                           random_state=42,\n",
        "                           shuffle=False)\n",
        "\n",
        "print(\"Class distribution:\", Counter(y))"
      ],
      "metadata": {
        "colab": {
          "base_uri": "https://localhost:8080/"
        },
        "id": "m85MBRecOO8q",
        "outputId": "257f4522-00fe-429b-dfc3-73f9a07a46d2"
      },
      "execution_count": 9,
      "outputs": [
        {
          "output_type": "stream",
          "name": "stdout",
          "text": [
            "Class distribution: Counter({np.int64(0): 897, np.int64(1): 103})\n"
          ]
        }
      ]
    },
    {
      "cell_type": "markdown",
      "source": [
        " 7: Implement one-hot encoding using pandas for the following list of colors:\n",
        "['Red', 'Green', 'Blue', 'Green', 'Red']. Print the resulting dataframe."
      ],
      "metadata": {
        "id": "lP4Ea32KOkFP"
      }
    },
    {
      "cell_type": "code",
      "source": [
        "import pandas as pd\n",
        "\n",
        "colors = ['Red', 'Green', 'Blue', 'Green', 'Red']\n",
        "df = pd.DataFrame(colors, columns=['Color'])\n",
        "\n",
        "# One-hot encoding\n",
        "encoded = pd.get_dummies(df, columns=['Color'])\n",
        "print(encoded)"
      ],
      "metadata": {
        "colab": {
          "base_uri": "https://localhost:8080/"
        },
        "id": "XtFvBbgKOoGi",
        "outputId": "af208ac4-82bc-4f7f-ce93-ad7ca7483efe"
      },
      "execution_count": 2,
      "outputs": [
        {
          "output_type": "stream",
          "name": "stdout",
          "text": [
            "   Color_Blue  Color_Green  Color_Red\n",
            "0       False        False       True\n",
            "1       False         True      False\n",
            "2        True        False      False\n",
            "3       False         True      False\n",
            "4       False        False       True\n"
          ]
        }
      ]
    },
    {
      "cell_type": "markdown",
      "source": [
        "Q8: Write a Python script to:\n",
        "* Generate 1000 samples from a normal distribution.\n",
        "* Introduce 50 random missing values.\n",
        "* Fill missing values with the column mean.\n",
        "* Plot a histogram before and after imputation."
      ],
      "metadata": {
        "id": "Q5WsCCYEOyHz"
      }
    },
    {
      "cell_type": "code",
      "source": [
        "import numpy as np\n",
        "import pandas as pd\n",
        "import matplotlib.pyplot as plt\n",
        "\n",
        "# Generate 1000 samples\n",
        "data = np.random.normal(loc=50, scale=10, size=1000)\n",
        "df = pd.DataFrame(data, columns=['Values'])\n",
        "\n",
        "# Introduce 50 missing values\n",
        "missing_idx = np.random.choice(df.index, 50, replace=False)\n",
        "df.loc[missing_idx, 'Values'] = np.nan\n",
        "\n",
        "# Plot before imputation\n",
        "df['Values'].hist(bins=30)\n",
        "plt.title(\"Before Imputation\")\n",
        "plt.show()\n",
        "\n",
        "# Fill missing with mean\n",
        "df['Values'].fillna(df['Values'].mean(), inplace=True)\n",
        "\n",
        "# Plot after imputation\n",
        "df['Values'].hist(bins=30)\n",
        "plt.title(\"After Imputation\")\n",
        "plt.show()"
      ],
      "metadata": {
        "colab": {
          "base_uri": "https://localhost:8080/",
          "height": 1000
        },
        "id": "fXffAORAO6DC",
        "outputId": "9344cbe5-0b8a-471a-fd5f-ccf2ff4fe10f"
      },
      "execution_count": 3,
      "outputs": [
        {
          "output_type": "display_data",
          "data": {
            "text/plain": [
              "<Figure size 640x480 with 1 Axes>"
            ],
            "image/png": "[encoded data removed]"
          },
          "metadata": {}
        },
        {
          "output_type": "stream",
          "name": "stderr",
          "text": [
            "/tmp/ipython-input-3401355282.py:19: FutureWarning: A value is trying to be set on a copy of a DataFrame or Series through chained assignment using an inplace method.\n",
            "The behavior will change in pandas 3.0. This inplace method will never work because the intermediate object on which we are setting values always behaves as a copy.\n",
            "\n",
            "For example, when doing 'df[col].method(value, inplace=True)', try using 'df.method({col: value}, inplace=True)' or df[col] = df[col].method(value) instead, to perform the operation inplace on the original object.\n",
            "\n",
            "\n",
            "  df['Values'].fillna(df['Values'].mean(), inplace=True)\n"
          ]
        },
        {
          "output_type": "display_data",
          "data": {
            "text/plain": [
              "<Figure size 640x480 with 1 Axes>"
            ],
            "image/png": "[encoded data removed]"
          },
          "metadata": {}
        }
      ]
    },
    {
      "cell_type": "markdown",
      "source": [
        "9: Implement Min-Max scaling on the following list of numbers [2, 5, 10, 15,\n",
        "20] using sklearn.preprocessing.MinMaxScaler. Print the scaled array."
      ],
      "metadata": {
        "id": "T8XRHWGfPFYP"
      }
    },
    {
      "cell_type": "code",
      "source": [
        "from sklearn.preprocessing import MinMaxScaler\n",
        "import numpy as np\n",
        "\n",
        "data = np.array([[2], [5], [10], [15], [20]])\n",
        "scaler = MinMaxScaler()\n",
        "scaled = scaler.fit_transform(data)\n",
        "\n",
        "print(\"Scaled values:\\n\", scaled.flatten())"
      ],
      "metadata": {
        "colab": {
          "base_uri": "https://localhost:8080/"
        },
        "id": "mK9Swg6hPHtu",
        "outputId": "338a4c3a-589a-4b0d-e5fb-8f9304cc0158"
      },
      "execution_count": 4,
      "outputs": [
        {
          "output_type": "stream",
          "name": "stdout",
          "text": [
            "Scaled values:\n",
            " [0.         0.16666667 0.44444444 0.72222222 1.        ]\n"
          ]
        }
      ]
    },
    {
      "cell_type": "markdown",
      "source": [
        "Q10: You are working as a data scientist for a retail company. You receive a customer\n",
        "transaction dataset that contains:\n",
        "\n",
        "* Missing ages,\n",
        "* Outliers in transaction amount,\n",
        "* A highly imbalanced target (fraud vs. non-fraud),\n",
        "* Categorical variables like payment method.\n",
        "\n",
        "Explain the step-by-step data preparation plan you’d follow before training a machine learning model. Include how you’d address missing data, outliers, imbalance, and encoding."
      ],
      "metadata": {
        "id": "vTWoAzkfPUPz"
      }
    },
    {
      "cell_type": "code",
      "source": [
        "import pandas as pd\n",
        "import numpy as np\n",
        "from sklearn.impute import SimpleImputer\n",
        "from sklearn.preprocessing import OneHotEncoder, MinMaxScaler\n",
        "from imblearn.over_sampling import SMOTE\n",
        "\n",
        "# Sample dataset (added more fraud cases)\n",
        "data = {\n",
        "    'Age': [25, np.nan, 40, 35, np.nan, 30, 28],\n",
        "    'Transaction': [100, 5000, 200, 250, 10000, 300, 1500],\n",
        "    'Payment': ['Card', 'Cash', 'Card', 'Wallet', 'Cash', 'Wallet', 'Card'],\n",
        "    'Fraud': [0, 0, 0, 1, 0, 1, 1]\n",
        "}\n",
        "df = pd.DataFrame(data)\n",
        "\n",
        "# Handle missing values\n",
        "imputer = SimpleImputer(strategy='median')\n",
        "df['Age'] = imputer.fit_transform(df[['Age']])\n",
        "\n",
        "# Handle outliers (capping using IQR)\n",
        "q1, q3 = df['Transaction'].quantile([0.25, 0.75])\n",
        "iqr = q3 - q1\n",
        "lower, upper = q1 - 1.5*iqr, q3 + 1.5*iqr\n",
        "df['Transaction'] = np.clip(df['Transaction'], lower, upper)\n",
        "\n",
        "# Encode categorical\n",
        "encoder = OneHotEncoder(sparse_output=False, drop='first')\n",
        "encoded = encoder.fit_transform(df[['Payment']])\n",
        "df = df.drop('Payment', axis=1)\n",
        "df = pd.concat([df, pd.DataFrame(encoded, columns=encoder.get_feature_names_out(['Payment']))], axis=1)\n",
        "\n",
        "# Balance classes (now works)\n",
        "X = df.drop('Fraud', axis=1)\n",
        "y = df['Fraud']\n",
        "sm = SMOTE(random_state=42, k_neighbors=2)  # <- reduced neighbors for safety\n",
        "X_res, y_res = sm.fit_resample(X, y)\n",
        "\n",
        "# Scaling\n",
        "scaler = MinMaxScaler()\n",
        "X_scaled = scaler.fit_transform(X_res)\n",
        "\n",
        "print(\"Prepared Data Shape:\", X_scaled.shape)\n",
        "print(\"Balanced Target Distribution:\\n\", np.bincount(y_res))"
      ],
      "metadata": {
        "colab": {
          "base_uri": "https://localhost:8080/"
        },
        "id": "syGTR6B0Pfw7",
        "outputId": "08f96a40-c0cc-4e41-ee39-4cea081e1bdd"
      },
      "execution_count": 8,
      "outputs": [
        {
          "output_type": "stream",
          "name": "stdout",
          "text": [
            "Prepared Data Shape: (8, 4)\n",
            "Balanced Target Distribution:\n",
            " [4 4]\n"
          ]
        }
      ]
    },
    {
      "cell_type": "markdown",
      "source": [
        "1. Handle Missing Values\n",
        "\n",
        "* For Age (numeric) → fill with median.\n",
        "\n",
        "* For Payment Method (categorical) → fill with most frequent value.\n",
        "\n",
        "2. Handle Outliers (Transaction Amount)\n",
        "\n",
        "* Detect outliers using IQR method.\n",
        "\n",
        "* Cap extreme values at upper and lower bounds.\n",
        "\n",
        "3. Handle Imbalanced Target (Fraud vs Non-Fraud)\n",
        "\n",
        "* Apply SMOTE (Synthetic Minority Oversampling) on training data to balance classes.\n",
        "\n",
        "* Alternatively, use class weights.\n",
        "\n",
        "4. Encode Categorical Variables\n",
        "\n",
        "* Use One-Hot Encoding for “Payment Method”.\n",
        "\n",
        "5. Scale Numerical Features\n",
        "\n",
        "* Apply Min-Max Scaling (or Standardization) to bring values to a similar range.\n",
        "\n",
        "6. Final Check\n",
        "\n",
        "* Ensure the transformed dataset has no missing values, reduced outliers, balanced target, and properly encoded/scaled features.\n",
        "\n",
        "* Now ready for model training."
      ],
      "metadata": {
        "id": "V5D1nsjERNvo"
      }
    }
  ]
}